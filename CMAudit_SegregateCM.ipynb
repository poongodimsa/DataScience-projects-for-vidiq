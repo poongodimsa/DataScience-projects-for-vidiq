{
  "cells": [
    {
      "cell_type": "markdown",
      "metadata": {
        "id": "view-in-github",
        "colab_type": "text"
      },
      "source": [
        "<a href=\"https://colab.research.google.com/github/poongodimsa/DataScience-projects-for-vidiq/blob/main/CMAudit_SegregateCM.ipynb\" target=\"_parent\"><img src=\"https://colab.research.google.com/assets/colab-badge.svg\" alt=\"Open In Colab\"/></a>"
      ]
    },
    {
      "cell_type": "markdown",
      "metadata": {
        "id": "NwKkzYgAyZBF"
      },
      "source": [
        "# Segregate CM data"
      ]
    },
    {
      "cell_type": "markdown",
      "metadata": {
        "id": "NlXDBvN74zP1"
      },
      "source": [
        "###Specifications"
      ]
    },
    {
      "cell_type": "markdown",
      "metadata": {
        "id": "jvEgfhlL5I9D"
      },
      "source": [
        "####  Step 01:\n",
        "\n",
        "Add CM monthly and Yearly data together but to differentiate data, add a separate column name \"Plan Type\" and label monthly data as \"Monthly\" and Yearly data as \"Annual\" \n",
        "\n",
        "\n",
        "#### Step 2:\n",
        "\n",
        "Now we need to separate/sort out data by different platform data using \"Charge ID\". Create separate sheets/Tab to move below data \n",
        "\n",
        "o\tTransactions starting with ch_& re_ or py_ -----> Stripe\n",
        "\n",
        "o\tTransactions Starting with number -------> Paypal  ( Or in the middle separate by -Com)\n",
        "\n",
        "o\tTransactions starting with tr_ -----> Apple & Google\n"
      ]
    },
    {
      "cell_type": "markdown",
      "metadata": {
        "id": "FHvKpNaw3tjR"
      },
      "source": [
        "### Script\n",
        "---"
      ]
    },
    {
      "cell_type": "markdown",
      "metadata": {
        "id": "0RPucTYS4SMf"
      },
      "source": [
        "#### Imports,prepartions and functions"
      ]
    },
    {
      "cell_type": "code",
      "source": [
        "!pip install XlsxWriter"
      ],
      "metadata": {
        "colab": {
          "base_uri": "https://localhost:8080/"
        },
        "id": "oBg8EOXY0_XH",
        "outputId": "2e89f010-9d32-4056-d11f-dbdb4b96ca1a"
      },
      "execution_count": null,
      "outputs": [
        {
          "output_type": "stream",
          "name": "stdout",
          "text": [
            "Looking in indexes: https://pypi.org/simple, https://us-python.pkg.dev/colab-wheels/public/simple/\n",
            "Collecting xlsxwriter\n",
            "  Downloading XlsxWriter-3.0.3-py3-none-any.whl (149 kB)\n",
            "\u001b[K     |████████████████████████████████| 149 kB 5.3 MB/s \n",
            "\u001b[?25hInstalling collected packages: xlsxwriter\n",
            "Successfully installed xlsxwriter-3.0.3\n"
          ]
        }
      ]
    },
    {
      "cell_type": "code",
      "execution_count": null,
      "metadata": {
        "id": "SanXBAdhNeuc"
      },
      "outputs": [],
      "source": [
        "import pandas as pd\n",
        "import numpy as np\n",
        "import os\n",
        "from datetime import datetime\n",
        "from datetime import date\n",
        "from dateutil.relativedelta import *\n",
        "import shutil\n",
        "import xlsxwriter\n"
      ]
    },
    {
      "cell_type": "markdown",
      "metadata": {
        "id": "vL4YBOciZNdO"
      },
      "source": [
        "###### Preparations\n",
        "---\n"
      ]
    },
    {
      "cell_type": "code",
      "execution_count": null,
      "metadata": {
        "colab": {
          "base_uri": "https://localhost:8080/"
        },
        "id": "LaAgaFqFStup",
        "outputId": "00651686-76c4-450c-b16c-a58b0381869c"
      },
      "outputs": [
        {
          "output_type": "stream",
          "name": "stdout",
          "text": [
            "Mounted at /content/gdrive\n"
          ]
        }
      ],
      "source": [
        "#Mount GDrive\n",
        "from google.colab import drive\n",
        "drive.mount('/content/gdrive')\n",
        "\n",
        "#Set file paths\n",
        "path = \"/content/gdrive/My Drive/Data Science 2022/\"\n",
        "\n",
        "inpathCM = path + \"CM Audit/\"\n",
        "\n",
        "outpath = path + \"Results/CM Segregated/\"\n",
        "archpath = path + \"Results/Archives/\"\n",
        "\n",
        "#Create Results folder if missing\n",
        "if not os.path.isdir(outpath):\n",
        "  os.mkdir(outpath)\n",
        "\n",
        "#Create archive folder if missing\n",
        "if not os.path.isdir(archpath):\n",
        "  os.mkdir(archpath)\n"
      ]
    },
    {
      "cell_type": "markdown",
      "metadata": {
        "id": "4y-Qiu-53WdG"
      },
      "source": [
        "#### Segregate ChartMogul"
      ]
    },
    {
      "cell_type": "code",
      "execution_count": null,
      "metadata": {
        "colab": {
          "base_uri": "https://localhost:8080/"
        },
        "id": "dWQj-zfp3iQn",
        "outputId": "d34740b0-997b-4258-cbcc-880bde05384e"
      },
      "outputs": [
        {
          "output_type": "stream",
          "name": "stdout",
          "text": [
            "2022.06\n"
          ]
        },
        {
          "output_type": "stream",
          "name": "stderr",
          "text": [
            "/usr/local/lib/python3.7/dist-packages/xlsxwriter/workbook.py:339: UserWarning: Calling close() on already closed file.\n",
            "  warn(\"Calling close() on already closed file.\")\n"
          ]
        },
        {
          "output_type": "stream",
          "name": "stdout",
          "text": [
            "2022.07\n",
            "Done!\n"
          ]
        }
      ],
      "source": [
        "for item in sorted(os.listdir(inpathCM)):\n",
        "  \n",
        "  print(item)\n",
        "  if os.path.isdir(inpathCM  + item):\n",
        "    ###### Combine Monthly and yearly data differentiating using 'Plan Type' column ############\n",
        "    for file in os.listdir(inpathCM + item ):\n",
        "      #print (file)\n",
        "      \n",
        "      if \"Mon\" in file:     #Monthly data\n",
        "        dfmon = pd.read_csv(inpathCM + item + \"/\" +  file , na_filter=False, index_col=False)\n",
        "      else:\n",
        "        dfyear = pd.read_csv(inpathCM + item + \"/\" +  file , na_filter=False, index_col=False)\n",
        "\n",
        "    colcnt = dfmon.shape[1]\n",
        "    dfmon.insert(colcnt,\"Plan Type\", \"Monthly\")\n",
        "    dfyear.insert(colcnt,\"Plan Type\", \"Yearly\" )\n",
        "    \n",
        "    #Concat the datasets\n",
        "    dfcombine = pd.concat([dfmon,dfyear])\n",
        "   \n",
        "    ###### Segregate based on 'Charge Id' ##########\n",
        "    #Transactions starting with ch_& re_ or py_ -----> Stripe\n",
        "    dfs = dfcombine[dfcombine['Charge ID'].str.contains(\"ch_|re_|py_\") ]\n",
        "    #Transactions Starting with number -------> Paypal ( Or in the middle separate by -Com)\n",
        "    dfpp = dfcombine[dfcombine['Charge ID'].str.contains(\"-Com\") ]\n",
        "    #Transactions starting with tr_ -----> Apple & Google\n",
        "    dfag = dfcombine[dfcombine['Charge ID'].str.contains(\"tr_\") ]\n",
        "    #Others\n",
        "    dfmerge=pd.concat([dfs,dfag,dfpp])\n",
        "    dfother = dfcombine[~dfcombine[\"Charge ID\"].isin(dfmerge[\"Charge ID\"])]\n",
        "\n",
        "\n",
        "    filename = \"CM_\" + item[2:] + \".xlsx\"\n",
        "\n",
        "    writer = pd.ExcelWriter(outpath + filename, engine='xlsxwriter')\n",
        "    dfs.to_excel(writer,sheet_name=\"Stripe\", index=False)\n",
        "    dfpp.to_excel(writer,sheet_name=\"Paypal\", index=False)\n",
        "    dfag.to_excel(writer,sheet_name=\"Apple&Google\", index=False)\n",
        "    dfother.to_excel(writer,sheet_name=\"Others\", index=False)\n",
        "\n",
        "    writer.save()\n",
        "    writer.close()\n",
        "\n",
        "print(\"Done!\")"
      ]
    }
  ],
  "metadata": {
    "colab": {
      "collapsed_sections": [
        "NlXDBvN74zP1",
        "0RPucTYS4SMf",
        "4y-Qiu-53WdG"
      ],
      "name": "CMAudit_SegregateCM.ipynb",
      "provenance": [],
      "authorship_tag": "ABX9TyM5uYpJFUK+MNrO2HEBZGZn",
      "include_colab_link": true
    },
    "kernelspec": {
      "display_name": "Python 3",
      "name": "python3"
    },
    "language_info": {
      "name": "python"
    }
  },
  "nbformat": 4,
  "nbformat_minor": 0
}